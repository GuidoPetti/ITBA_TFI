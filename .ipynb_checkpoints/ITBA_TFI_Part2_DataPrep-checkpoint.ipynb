{
 "cells": [
  {
   "cell_type": "markdown",
   "metadata": {},
   "source": [
    "# TRABAJO FINAL INTEGRADOR\n",
    "\n",
    "### NOMBRE: GUIDO PETTINARI\n",
    "\n",
    "### TUTOR: VALERIA SOLIANI\n",
    "\n",
    "### UNIVERSIDAD: INSTITUTO TECNOLOGICO DE BUENOS AIRES (ITBA)\n",
    "\n",
    "**El Trabajo se dividirá en**:\n",
    "\n",
    "    1) Análisis Exploratorio Descriptivo\n",
    "    2) Feature Engineering o Preparación de Datos\n",
    "    3) Modelos Predictivos: Probaremos diferentes algoritmos predictivos"
   ]
  },
  {
   "cell_type": "markdown",
   "metadata": {},
   "source": [
    "### Import Libraries"
   ]
  },
  {
   "cell_type": "code",
   "execution_count": 1,
   "metadata": {},
   "outputs": [],
   "source": [
    "import pandas as pd\n",
    "from funpymodeling.exploratory import status, profiling_num, freq_tbl, cat_vars, num_vars, corr_pair\n",
    "from pandas_profiling import ProfileReport\n",
    "from qgrid import show_grid\n",
    "import matplotlib.pyplot as plt\n",
    "import seaborn as sns\n",
    "from sklearn import preprocessing\n",
    "import numpy as np\n",
    "from scipy import stats"
   ]
  },
  {
   "cell_type": "markdown",
   "metadata": {},
   "source": [
    "### Load Dataframe"
   ]
  },
  {
   "cell_type": "code",
   "execution_count": 2,
   "metadata": {},
   "outputs": [],
   "source": [
    "data = pd.read_csv('dataset_hr.csv', sep=',')"
   ]
  },
  {
   "cell_type": "markdown",
   "metadata": {},
   "source": [
    "### Limpieza Columnas que no tomaremos en nuestros modelos\n",
    "\n",
    "Como definimos que nuestra variable a predecir sea la variable monthly income discretizada, decidimos limpiar las columnas que tengan salario de por medio. Es decir, la siguientes columnas: DailyRate, HourlyRate,MonthlyRate,PercentSalaryHike.\\\n",
    "\n",
    "Por otro lado eliminaremos columnas que sean constantes en toda la tabla (1 solo valor único) y columnas que tienen la misma cantidad de valores únicos que de filas. Es decir, las siguientes columnas: EmployeeCount, Over18, StandardHours. Employee Number lo vamos a dejar ya que nos servirá luego para matchear la predicción con el empleado que corresponde.\n"
   ]
  },
  {
   "cell_type": "code",
   "execution_count": 3,
   "metadata": {},
   "outputs": [],
   "source": [
    "\n",
    "data = data.drop(['DailyRate', 'HourlyRate','MonthlyRate','PercentSalaryHike','EmployeeCount',\n",
    "                  'Over18','StandardHours','EmployeeNumber'], axis=1)\n",
    "\n"
   ]
  },
  {
   "cell_type": "markdown",
   "metadata": {},
   "source": [
    "### Discretización variable a predecir\n",
    "\n",
    "Para convertir nuestra variable continua \"Monthly Income\" en categórica deberemos discretizarla. El método para discretizar va a ser por percentiles, es decir por igual frecuencia.\\"
   ]
  },
  {
   "cell_type": "code",
   "execution_count": 4,
   "metadata": {},
   "outputs": [],
   "source": [
    "#Discretize in quartiles\n",
    "data['MonthlyIncome_cat']= pd.qcut(data['MonthlyIncome'],q=4)\n",
    "#Drop Monthly Income\n",
    "data_base = data.drop(['MonthlyIncome'],axis=1)\n"
   ]
  },
  {
   "cell_type": "code",
   "execution_count": 6,
   "metadata": {},
   "outputs": [
    {
     "data": {
      "text/html": [
       "<div>\n",
       "<style scoped>\n",
       "    .dataframe tbody tr th:only-of-type {\n",
       "        vertical-align: middle;\n",
       "    }\n",
       "\n",
       "    .dataframe tbody tr th {\n",
       "        vertical-align: top;\n",
       "    }\n",
       "\n",
       "    .dataframe thead th {\n",
       "        text-align: right;\n",
       "    }\n",
       "</style>\n",
       "<table border=\"1\" class=\"dataframe\">\n",
       "  <thead>\n",
       "    <tr style=\"text-align: right;\">\n",
       "      <th></th>\n",
       "      <th>variable</th>\n",
       "      <th>q_nan</th>\n",
       "      <th>p_nan</th>\n",
       "      <th>q_zeros</th>\n",
       "      <th>p_zeros</th>\n",
       "      <th>unique</th>\n",
       "      <th>type</th>\n",
       "    </tr>\n",
       "  </thead>\n",
       "  <tbody>\n",
       "    <tr>\n",
       "      <th>0</th>\n",
       "      <td>Age</td>\n",
       "      <td>0</td>\n",
       "      <td>0.0</td>\n",
       "      <td>0</td>\n",
       "      <td>0.000000</td>\n",
       "      <td>43</td>\n",
       "      <td>int64</td>\n",
       "    </tr>\n",
       "    <tr>\n",
       "      <th>1</th>\n",
       "      <td>Attrition</td>\n",
       "      <td>0</td>\n",
       "      <td>0.0</td>\n",
       "      <td>0</td>\n",
       "      <td>0.000000</td>\n",
       "      <td>2</td>\n",
       "      <td>object</td>\n",
       "    </tr>\n",
       "    <tr>\n",
       "      <th>2</th>\n",
       "      <td>BusinessTravel</td>\n",
       "      <td>0</td>\n",
       "      <td>0.0</td>\n",
       "      <td>0</td>\n",
       "      <td>0.000000</td>\n",
       "      <td>3</td>\n",
       "      <td>object</td>\n",
       "    </tr>\n",
       "    <tr>\n",
       "      <th>3</th>\n",
       "      <td>Department</td>\n",
       "      <td>0</td>\n",
       "      <td>0.0</td>\n",
       "      <td>0</td>\n",
       "      <td>0.000000</td>\n",
       "      <td>3</td>\n",
       "      <td>object</td>\n",
       "    </tr>\n",
       "    <tr>\n",
       "      <th>4</th>\n",
       "      <td>DistanceFromHome</td>\n",
       "      <td>0</td>\n",
       "      <td>0.0</td>\n",
       "      <td>0</td>\n",
       "      <td>0.000000</td>\n",
       "      <td>29</td>\n",
       "      <td>int64</td>\n",
       "    </tr>\n",
       "    <tr>\n",
       "      <th>5</th>\n",
       "      <td>Education</td>\n",
       "      <td>0</td>\n",
       "      <td>0.0</td>\n",
       "      <td>0</td>\n",
       "      <td>0.000000</td>\n",
       "      <td>5</td>\n",
       "      <td>int64</td>\n",
       "    </tr>\n",
       "    <tr>\n",
       "      <th>6</th>\n",
       "      <td>EducationField</td>\n",
       "      <td>0</td>\n",
       "      <td>0.0</td>\n",
       "      <td>0</td>\n",
       "      <td>0.000000</td>\n",
       "      <td>6</td>\n",
       "      <td>object</td>\n",
       "    </tr>\n",
       "    <tr>\n",
       "      <th>7</th>\n",
       "      <td>EnvironmentSatisfaction</td>\n",
       "      <td>0</td>\n",
       "      <td>0.0</td>\n",
       "      <td>0</td>\n",
       "      <td>0.000000</td>\n",
       "      <td>4</td>\n",
       "      <td>int64</td>\n",
       "    </tr>\n",
       "    <tr>\n",
       "      <th>8</th>\n",
       "      <td>Gender</td>\n",
       "      <td>0</td>\n",
       "      <td>0.0</td>\n",
       "      <td>0</td>\n",
       "      <td>0.000000</td>\n",
       "      <td>2</td>\n",
       "      <td>object</td>\n",
       "    </tr>\n",
       "    <tr>\n",
       "      <th>9</th>\n",
       "      <td>JobInvolvement</td>\n",
       "      <td>0</td>\n",
       "      <td>0.0</td>\n",
       "      <td>0</td>\n",
       "      <td>0.000000</td>\n",
       "      <td>4</td>\n",
       "      <td>int64</td>\n",
       "    </tr>\n",
       "    <tr>\n",
       "      <th>10</th>\n",
       "      <td>JobLevel</td>\n",
       "      <td>0</td>\n",
       "      <td>0.0</td>\n",
       "      <td>0</td>\n",
       "      <td>0.000000</td>\n",
       "      <td>5</td>\n",
       "      <td>int64</td>\n",
       "    </tr>\n",
       "    <tr>\n",
       "      <th>11</th>\n",
       "      <td>JobRole</td>\n",
       "      <td>0</td>\n",
       "      <td>0.0</td>\n",
       "      <td>0</td>\n",
       "      <td>0.000000</td>\n",
       "      <td>9</td>\n",
       "      <td>object</td>\n",
       "    </tr>\n",
       "    <tr>\n",
       "      <th>12</th>\n",
       "      <td>JobSatisfaction</td>\n",
       "      <td>0</td>\n",
       "      <td>0.0</td>\n",
       "      <td>0</td>\n",
       "      <td>0.000000</td>\n",
       "      <td>4</td>\n",
       "      <td>int64</td>\n",
       "    </tr>\n",
       "    <tr>\n",
       "      <th>13</th>\n",
       "      <td>MaritalStatus</td>\n",
       "      <td>0</td>\n",
       "      <td>0.0</td>\n",
       "      <td>0</td>\n",
       "      <td>0.000000</td>\n",
       "      <td>3</td>\n",
       "      <td>object</td>\n",
       "    </tr>\n",
       "    <tr>\n",
       "      <th>14</th>\n",
       "      <td>NumCompaniesWorked</td>\n",
       "      <td>0</td>\n",
       "      <td>0.0</td>\n",
       "      <td>197</td>\n",
       "      <td>0.134014</td>\n",
       "      <td>10</td>\n",
       "      <td>int64</td>\n",
       "    </tr>\n",
       "    <tr>\n",
       "      <th>15</th>\n",
       "      <td>OverTime</td>\n",
       "      <td>0</td>\n",
       "      <td>0.0</td>\n",
       "      <td>0</td>\n",
       "      <td>0.000000</td>\n",
       "      <td>2</td>\n",
       "      <td>object</td>\n",
       "    </tr>\n",
       "    <tr>\n",
       "      <th>16</th>\n",
       "      <td>PerformanceRating</td>\n",
       "      <td>0</td>\n",
       "      <td>0.0</td>\n",
       "      <td>0</td>\n",
       "      <td>0.000000</td>\n",
       "      <td>2</td>\n",
       "      <td>int64</td>\n",
       "    </tr>\n",
       "    <tr>\n",
       "      <th>17</th>\n",
       "      <td>RelationshipSatisfaction</td>\n",
       "      <td>0</td>\n",
       "      <td>0.0</td>\n",
       "      <td>0</td>\n",
       "      <td>0.000000</td>\n",
       "      <td>4</td>\n",
       "      <td>int64</td>\n",
       "    </tr>\n",
       "    <tr>\n",
       "      <th>18</th>\n",
       "      <td>StockOptionLevel</td>\n",
       "      <td>0</td>\n",
       "      <td>0.0</td>\n",
       "      <td>631</td>\n",
       "      <td>0.429252</td>\n",
       "      <td>4</td>\n",
       "      <td>int64</td>\n",
       "    </tr>\n",
       "    <tr>\n",
       "      <th>19</th>\n",
       "      <td>TotalWorkingYears</td>\n",
       "      <td>0</td>\n",
       "      <td>0.0</td>\n",
       "      <td>11</td>\n",
       "      <td>0.007483</td>\n",
       "      <td>40</td>\n",
       "      <td>int64</td>\n",
       "    </tr>\n",
       "    <tr>\n",
       "      <th>20</th>\n",
       "      <td>TrainingTimesLastYear</td>\n",
       "      <td>0</td>\n",
       "      <td>0.0</td>\n",
       "      <td>54</td>\n",
       "      <td>0.036735</td>\n",
       "      <td>7</td>\n",
       "      <td>int64</td>\n",
       "    </tr>\n",
       "    <tr>\n",
       "      <th>21</th>\n",
       "      <td>WorkLifeBalance</td>\n",
       "      <td>0</td>\n",
       "      <td>0.0</td>\n",
       "      <td>0</td>\n",
       "      <td>0.000000</td>\n",
       "      <td>4</td>\n",
       "      <td>int64</td>\n",
       "    </tr>\n",
       "    <tr>\n",
       "      <th>22</th>\n",
       "      <td>YearsAtCompany</td>\n",
       "      <td>0</td>\n",
       "      <td>0.0</td>\n",
       "      <td>44</td>\n",
       "      <td>0.029932</td>\n",
       "      <td>37</td>\n",
       "      <td>int64</td>\n",
       "    </tr>\n",
       "    <tr>\n",
       "      <th>23</th>\n",
       "      <td>YearsInCurrentRole</td>\n",
       "      <td>0</td>\n",
       "      <td>0.0</td>\n",
       "      <td>244</td>\n",
       "      <td>0.165986</td>\n",
       "      <td>19</td>\n",
       "      <td>int64</td>\n",
       "    </tr>\n",
       "    <tr>\n",
       "      <th>24</th>\n",
       "      <td>YearsSinceLastPromotion</td>\n",
       "      <td>0</td>\n",
       "      <td>0.0</td>\n",
       "      <td>581</td>\n",
       "      <td>0.395238</td>\n",
       "      <td>16</td>\n",
       "      <td>int64</td>\n",
       "    </tr>\n",
       "    <tr>\n",
       "      <th>25</th>\n",
       "      <td>YearsWithCurrManager</td>\n",
       "      <td>0</td>\n",
       "      <td>0.0</td>\n",
       "      <td>263</td>\n",
       "      <td>0.178912</td>\n",
       "      <td>18</td>\n",
       "      <td>int64</td>\n",
       "    </tr>\n",
       "    <tr>\n",
       "      <th>26</th>\n",
       "      <td>MonthlyIncome_cat</td>\n",
       "      <td>0</td>\n",
       "      <td>0.0</td>\n",
       "      <td>0</td>\n",
       "      <td>0.000000</td>\n",
       "      <td>4</td>\n",
       "      <td>category</td>\n",
       "    </tr>\n",
       "  </tbody>\n",
       "</table>\n",
       "</div>"
      ],
      "text/plain": [
       "                    variable  q_nan  p_nan  q_zeros   p_zeros  unique  \\\n",
       "0                        Age      0    0.0        0  0.000000      43   \n",
       "1                  Attrition      0    0.0        0  0.000000       2   \n",
       "2             BusinessTravel      0    0.0        0  0.000000       3   \n",
       "3                 Department      0    0.0        0  0.000000       3   \n",
       "4           DistanceFromHome      0    0.0        0  0.000000      29   \n",
       "5                  Education      0    0.0        0  0.000000       5   \n",
       "6             EducationField      0    0.0        0  0.000000       6   \n",
       "7    EnvironmentSatisfaction      0    0.0        0  0.000000       4   \n",
       "8                     Gender      0    0.0        0  0.000000       2   \n",
       "9             JobInvolvement      0    0.0        0  0.000000       4   \n",
       "10                  JobLevel      0    0.0        0  0.000000       5   \n",
       "11                   JobRole      0    0.0        0  0.000000       9   \n",
       "12           JobSatisfaction      0    0.0        0  0.000000       4   \n",
       "13             MaritalStatus      0    0.0        0  0.000000       3   \n",
       "14        NumCompaniesWorked      0    0.0      197  0.134014      10   \n",
       "15                  OverTime      0    0.0        0  0.000000       2   \n",
       "16         PerformanceRating      0    0.0        0  0.000000       2   \n",
       "17  RelationshipSatisfaction      0    0.0        0  0.000000       4   \n",
       "18          StockOptionLevel      0    0.0      631  0.429252       4   \n",
       "19         TotalWorkingYears      0    0.0       11  0.007483      40   \n",
       "20     TrainingTimesLastYear      0    0.0       54  0.036735       7   \n",
       "21           WorkLifeBalance      0    0.0        0  0.000000       4   \n",
       "22            YearsAtCompany      0    0.0       44  0.029932      37   \n",
       "23        YearsInCurrentRole      0    0.0      244  0.165986      19   \n",
       "24   YearsSinceLastPromotion      0    0.0      581  0.395238      16   \n",
       "25      YearsWithCurrManager      0    0.0      263  0.178912      18   \n",
       "26         MonthlyIncome_cat      0    0.0        0  0.000000       4   \n",
       "\n",
       "        type  \n",
       "0      int64  \n",
       "1     object  \n",
       "2     object  \n",
       "3     object  \n",
       "4      int64  \n",
       "5      int64  \n",
       "6     object  \n",
       "7      int64  \n",
       "8     object  \n",
       "9      int64  \n",
       "10     int64  \n",
       "11    object  \n",
       "12     int64  \n",
       "13    object  \n",
       "14     int64  \n",
       "15    object  \n",
       "16     int64  \n",
       "17     int64  \n",
       "18     int64  \n",
       "19     int64  \n",
       "20     int64  \n",
       "21     int64  \n",
       "22     int64  \n",
       "23     int64  \n",
       "24     int64  \n",
       "25     int64  \n",
       "26  category  "
      ]
     },
     "execution_count": 6,
     "metadata": {},
     "output_type": "execute_result"
    }
   ],
   "source": [
    "status(data_base)"
   ]
  },
  {
   "cell_type": "markdown",
   "metadata": {},
   "source": [
    "### Creación de nuevas variables\n",
    "\n",
    "Crearemos nuevas variables que puedan enriquecer al modelo. Las nuevas variables serán:\n",
    "\n",
    "- CompaniesRotation = TotalWorkingYears / NumCompaniesWorked\n",
    "- PercYearsCurrManager = YearsWithCurrManager / YearsAtCompany\n",
    "- PercYearsLastPromotion = YearsSinceLastPromotion / YearsAtCompany\n",
    "- PercYearsCurrentRole = YearsInCurrentRole / YearsAtCompany"
   ]
  },
  {
   "cell_type": "code",
   "execution_count": null,
   "metadata": {},
   "outputs": [],
   "source": [
    "data_base['CompaniesRotation'] = data_base['TotalWorkingYears'] / data_base['NumCompaniesWorked']\n",
    "data_base['CompaniesRotation'] = data_base['CompaniesRotation'].fillna(0)\n",
    "data_base['PercYearsCurrManager'] = data_base['YearsWithCurrManager'] / data_base['YearsAtCompany']\n",
    "data_base['PercYearsCurrManager'] = data_base['PercYearsCurrManager'].fillna(0)\n",
    "data_base['PercYearsLastPromotion'] = data_base['YearsSinceLastPromotion'] / data_base['YearsAtCompany']\n",
    "data_base['PercYearsLastPromotion'] = data_base['PercYearsLastPromotion'].fillna(0)\n",
    "data_base['PercYearsCurrentRole'] = data_base['YearsInCurrentRole'] / data_base['YearsAtCompany']\n",
    "data_base['PercYearsCurrentRole'] = data_base['PercYearsCurrentRole'].fillna(0)\n",
    "data_base['CompaniesRotation'] =  data_base['CompaniesRotation'].replace([np.inf, -np.inf], np.nan)\n",
    "data_base['CompaniesRotation'] = data_base['CompaniesRotation'].fillna(0)\n",
    "data_base[['TotalWorkingYears','NumCompaniesWorked','CompaniesRotation']].loc[data_base['CompaniesRotation'] == 40]\n"
   ]
  },
  {
   "cell_type": "markdown",
   "metadata": {},
   "source": [
    "### Análisis Bivariado\n",
    "\n",
    "Al discretizar la variable a predecir nos resulta importante para el trabajo realizar un análisis bivariado entre la clase a predecir discretizada y otra variables."
   ]
  },
  {
   "cell_type": "code",
   "execution_count": 115,
   "metadata": {},
   "outputs": [
    {
     "data": {
      "text/plain": [
       "<seaborn.axisgrid.FacetGrid at 0x1901b00e748>"
      ]
     },
     "execution_count": 115,
     "metadata": {},
     "output_type": "execute_result"
    },
    {
     "data": {
      "image/png": "[encoded data removed]",
      "text/plain": [
       "<Figure size 491.975x360 with 1 Axes>"
      ]
     },
     "metadata": {
      "needs_background": "light"
     },
     "output_type": "display_data"
    }
   ],
   "source": [
    "import matplotlib.pyplot as plt\n",
    "%matplotlib inline\n",
    "\n",
    "\n",
    "\n",
    "\n",
    "sns.displot(data_base,aspect=1, x=\"Age\",hue=\"MonthlyIncome_cat\",kind=\"kde\")\n",
    "\n",
    "\n",
    "\n"
   ]
  },
  {
   "cell_type": "code",
   "execution_count": 124,
   "metadata": {},
   "outputs": [
    {
     "data": {
      "image/png": "[encoded data removed]",
      "text/plain": [
       "<Figure size 1152x360 with 4 Axes>"
      ]
     },
     "metadata": {
      "needs_background": "light"
     },
     "output_type": "display_data"
    }
   ],
   "source": [
    "\n",
    "g = sns.catplot(x=\"Gender\", col=\"MonthlyIncome_cat\", col_wrap=4,\n",
    "                data=data_base,\n",
    "                kind=\"count\",aspect=.8)\n"
   ]
  },
  {
   "cell_type": "code",
   "execution_count": 131,
   "metadata": {},
   "outputs": [
    {
     "data": {
      "text/plain": [
       "<seaborn.axisgrid.FacetGrid at 0x190202e4688>"
      ]
     },
     "execution_count": 131,
     "metadata": {},
     "output_type": "execute_result"
    },
    {
     "data": {
      "image/png": "[encoded data removed]",
      "text/plain": [
       "<Figure size 491.975x360 with 1 Axes>"
      ]
     },
     "metadata": {
      "needs_background": "light"
     },
     "output_type": "display_data"
    }
   ],
   "source": [
    "import matplotlib.pyplot as plt\n",
    "%matplotlib inline\n",
    "\n",
    "\n",
    "\n",
    "\n",
    "sns.displot(data_base,aspect=1, x=\"DistanceFromHome\",hue=\"MonthlyIncome_cat\",kind=\"kde\")\n",
    "\n",
    "\n"
   ]
  },
  {
   "cell_type": "code",
   "execution_count": 130,
   "metadata": {},
   "outputs": [
    {
     "data": {
      "image/png": "[encoded data removed]",
      "text/plain": [
       "<Figure size 1152x360 with 4 Axes>"
      ]
     },
     "metadata": {
      "needs_background": "light"
     },
     "output_type": "display_data"
    }
   ],
   "source": [
    "g = sns.catplot(x=\"MaritalStatus\", col=\"MonthlyIncome_cat\", col_wrap=4,\n",
    "                data=data_base,\n",
    "                kind=\"count\",aspect=.8)\n"
   ]
  },
  {
   "cell_type": "code",
   "execution_count": 132,
   "metadata": {},
   "outputs": [
    {
     "data": {
      "image/png": "[encoded data removed]",
      "text/plain": [
       "<Figure size 1152x360 with 4 Axes>"
      ]
     },
     "metadata": {
      "needs_background": "light"
     },
     "output_type": "display_data"
    }
   ],
   "source": [
    "g = sns.catplot(x=\"Education\", col=\"MonthlyIncome_cat\", col_wrap=4,\n",
    "                data=data_base,\n",
    "                kind=\"count\",aspect=.8)"
   ]
  },
  {
   "cell_type": "code",
   "execution_count": 133,
   "metadata": {},
   "outputs": [
    {
     "data": {
      "image/png": "[encoded data removed]",
      "text/plain": [
       "<Figure size 1152x360 with 4 Axes>"
      ]
     },
     "metadata": {
      "needs_background": "light"
     },
     "output_type": "display_data"
    }
   ],
   "source": [
    "g = sns.catplot(x=\"PerformanceRating\", col=\"MonthlyIncome_cat\", col_wrap=4,\n",
    "                data=data_base,\n",
    "                kind=\"count\",aspect=.8)"
   ]
  },
  {
   "cell_type": "markdown",
   "metadata": {},
   "source": [
    "### Creación multiples dataframes\n",
    "\n",
    "Como entendemos que todos los algoritmos tienen diferentes supuestos lo que haremos es crear varios dataframes para luego poder correr los modelos. Los dataframes resultantes los llamaremos de la siguiente manera:\\\n",
    "\n",
    " - data_base = Dataframe sin ningún cambio \n",
    " - data_ohe = Dataframe convirtiendo las variables categoricas con one hot encoding a numéricas. La variable a predecir será convertida por one label encoding \n",
    " - data_ohe_corr = Dataframe quitando variables que esten altamente correlacionadas con la variable a predecir + one hot encoding \n",
    " - data_ohe_out = Dataframe tratando outliers + one hot encoding \n",
    " - data_ohe_out_corr = Dataframe tratando outliers + one hot encoding + quitando variables que esten altamente correlacionadas. Marcarlas con un flag\n",
    " - data_out = Dataframe tratando outliers \n",
    " - data_corr = Dataframe quitando variables altamente correlacionadas con la variable a predecir\n",
    " - data_out_corr = Dataframe sin outliers ni variables correlacionadas\n",
    "\n"
   ]
  },
  {
   "cell_type": "markdown",
   "metadata": {},
   "source": [
    "#### Creación data_ohe"
   ]
  },
  {
   "cell_type": "code",
   "execution_count": null,
   "metadata": {},
   "outputs": [],
   "source": [
    "### Transformamos con one label encoding la variable a predecir\n",
    "le = preprocessing.LabelEncoder()\n",
    "le.fit(data_base['MonthlyIncome_cat'])\n",
    "data_base['MonthlyIncome_cat_encode'] = le.transform(data_base['MonthlyIncome_cat']) \n",
    "data_index = data_base[['MonthlyIncome_cat','MonthlyIncome_cat_encode']]\n",
    "data_index = data_index.drop_duplicates()\n",
    "data_base = data_base.drop(['MonthlyIncome_cat'],axis=1)\n",
    "\n",
    "#exclude monthly incoma cat encode from get_dummies\n",
    "\n",
    "non_dummy_cols = ['MonthlyIncome_cat_encode'] \n",
    "# Takes all 47 other columns\n",
    "dummy_cols = list(set(data_base.select_dtypes(include=['object']).columns) - set(non_dummy_cols))\n",
    "\n",
    "\n",
    "\n",
    "\n",
    "### Transformamos el resto de las variables categoricas en numericas con one hot encoding\n",
    "data_ohe = pd.get_dummies(data_base, columns=dummy_cols,drop_first=True)\n",
    "\n",
    "data_index.to_csv('data_index.csv')"
   ]
  },
  {
   "cell_type": "markdown",
   "metadata": {},
   "source": [
    "#### Creación data_ohe_corr\n",
    "\n",
    "Realizamos nuevamente una matriz de correlacion. Para este ejercicio vamos a quitar la variable a predecir y el employee number. Luego crearemos una función donde tome los titulos que tengan mayor correlación a 0.8 valor absoluto. Luego elimino esas columnas"
   ]
  },
  {
   "cell_type": "code",
   "execution_count": null,
   "metadata": {},
   "outputs": [],
   "source": [
    "data_ohe_corr = data_ohe\n"
   ]
  },
  {
   "cell_type": "code",
   "execution_count": null,
   "metadata": {},
   "outputs": [],
   "source": [
    "### Realizamos nuevamente una matriz de correlacion. Para este ejercicio vamos a quitar la variable a predecir y\n",
    "### el employee number. Luego crearemos una función donde tome los titulos que tengan mayor correlación a 0.8 valor absoluto\n",
    "### Luego elimino esas columnas\n",
    "data_ohe_corr_without = data_ohe_corr.drop(['MonthlyIncome_cat_encode'],axis=1)\n",
    "\n",
    "correlated_features = set()\n",
    "correlation_matrix = data_ohe_corr_without.corr()\n",
    "\n",
    "for i in range(len(correlation_matrix .columns)):\n",
    "    for j in range(i):\n",
    "        if abs(correlation_matrix.iloc[i, j]) > 0.8:\n",
    "            colname = correlation_matrix.columns[i]\n",
    "            correlated_features.add(colname)\n",
    "            \n",
    "data_ohe_corr.drop(labels=correlated_features, axis=1, inplace=True)"
   ]
  },
  {
   "cell_type": "markdown",
   "metadata": {},
   "source": [
    "#### Data_ohe_corr_out\n",
    "\n",
    "En este caso para no perder datos vamos a utilizar la tecnica de winsorized, donde pasaremos aquellos outliers por encima del percentil 95 a que tengan el valor correspondiente a dicho percentil y por otro lado los valores inferiores al percentil 5, pasaremos a que tengan valor de dicho percentil"
   ]
  },
  {
   "cell_type": "code",
   "execution_count": null,
   "metadata": {},
   "outputs": [],
   "source": [
    "data_ohe_corr_out = data_ohe_corr"
   ]
  },
  {
   "cell_type": "code",
   "execution_count": null,
   "metadata": {},
   "outputs": [],
   "source": [
    "#Modificamos los valores que superan el percentil 95 y son menores al percentil 0.05\n",
    "\n",
    "for col in data_ohe_corr_out[['NumCompaniesWorked','TotalWorkingYears','StockOptionLevel','TrainingTimesLastYear',\n",
    "                              'YearsSinceLastPromotion','YearsAtCompany','YearsInCurrentRole',\n",
    "                              'YearsWithCurrManager','CompaniesRotation']].columns: \n",
    "    data_ohe_corr_out[col] = stats.mstats.winsorize(data_ohe_corr_out[col], limits=[0.05, 0.10])\n",
    "     \n",
    "        "
   ]
  },
  {
   "cell_type": "markdown",
   "metadata": {},
   "source": [
    "#### Creación data_ohe_out"
   ]
  },
  {
   "cell_type": "code",
   "execution_count": null,
   "metadata": {},
   "outputs": [],
   "source": [
    "data_ohe_out = data_ohe"
   ]
  },
  {
   "cell_type": "code",
   "execution_count": null,
   "metadata": {},
   "outputs": [],
   "source": [
    "\n",
    "for col in data_ohe_out[['NumCompaniesWorked','TotalWorkingYears','StockOptionLevel','TrainingTimesLastYear',\n",
    "                              'YearsSinceLastPromotion','YearsAtCompany','YearsInCurrentRole',\n",
    "                              'YearsWithCurrManager','CompaniesRotation']].columns: \n",
    "    data_ohe_out[col] = stats.mstats.winsorize(data_ohe_out[col], limits=[0.05, 0.10])"
   ]
  },
  {
   "cell_type": "markdown",
   "metadata": {},
   "source": [
    "#### Creación data_out"
   ]
  },
  {
   "cell_type": "code",
   "execution_count": null,
   "metadata": {},
   "outputs": [],
   "source": [
    "data_out = data_base"
   ]
  },
  {
   "cell_type": "code",
   "execution_count": null,
   "metadata": {},
   "outputs": [],
   "source": [
    "for col in data_out[['NumCompaniesWorked','TotalWorkingYears','StockOptionLevel','TrainingTimesLastYear',\n",
    "                              'YearsSinceLastPromotion','YearsAtCompany','YearsInCurrentRole',\n",
    "                              'YearsWithCurrManager','CompaniesRotation']].columns: \n",
    "    data_out[col] = stats.mstats.winsorize(data_out[col], limits=[0.05, 0.10])"
   ]
  },
  {
   "cell_type": "markdown",
   "metadata": {},
   "source": [
    "#### Creación data_corr"
   ]
  },
  {
   "cell_type": "code",
   "execution_count": null,
   "metadata": {},
   "outputs": [],
   "source": [
    "data_corr = data_base"
   ]
  },
  {
   "cell_type": "code",
   "execution_count": null,
   "metadata": {},
   "outputs": [],
   "source": [
    "### Realizamos nuevamente una matriz de correlacion. Para este ejercicio vamos a quitar la variable a predecir y\n",
    "### el employee number. Luego crearemos una función donde tome los titulos que tengan mayor correlación a 0.8 valor absoluto\n",
    "### Luego elimino esas columnas\n",
    "data_corr_without = data_corr.drop(['MonthlyIncome_cat_encode'],axis=1)\n",
    "\n",
    "correlated_features = set()\n",
    "correlation_matrix = data_corr_without.corr()\n",
    "\n",
    "for i in range(len(correlation_matrix .columns)):\n",
    "    for j in range(i):\n",
    "        if abs(correlation_matrix.iloc[i, j]) > 0.8:\n",
    "            colname = correlation_matrix.columns[i]\n",
    "            correlated_features.add(colname)\n",
    "            \n",
    "data_corr.drop(labels=correlated_features, axis=1, inplace=True)"
   ]
  },
  {
   "cell_type": "markdown",
   "metadata": {},
   "source": [
    "#### Creación data_out_corr"
   ]
  },
  {
   "cell_type": "code",
   "execution_count": null,
   "metadata": {},
   "outputs": [],
   "source": [
    "data_out_corr = data_corr\n",
    "\n"
   ]
  },
  {
   "cell_type": "code",
   "execution_count": null,
   "metadata": {},
   "outputs": [],
   "source": [
    "for col in data_out_corr[['NumCompaniesWorked','TotalWorkingYears','StockOptionLevel','TrainingTimesLastYear',\n",
    "                              'YearsSinceLastPromotion','YearsAtCompany','CompaniesRotation']].columns: \n",
    "    data_out_corr[col] = stats.mstats.winsorize(data_out_corr[col], limits=[0.05, 0.10])"
   ]
  },
  {
   "cell_type": "markdown",
   "metadata": {},
   "source": [
    "### Guardado de datos con los diferentes cortes"
   ]
  },
  {
   "cell_type": "code",
   "execution_count": null,
   "metadata": {},
   "outputs": [],
   "source": [
    "data_base.to_csv('data_base.csv',index=False)\n",
    "data_ohe.to_csv('data_ohe.csv',index=False)\n",
    "data_ohe_corr.to_csv('data_ohe_corr.csv',index=False)\n",
    "data_ohe_out.to_csv('data_ohe_out.csv',index=False)\n",
    "data_ohe_corr_out.to_csv('data_ohe_out_corr.csv',index=False)\n",
    "data_out.to_csv('data_out.csv',index=False)\n",
    "data_corr.to_csv('data_corr.csv',index=False)\n",
    "data_out_corr.to_csv('data_out_corr.csv',index=False)"
   ]
  },
  {
   "cell_type": "code",
   "execution_count": null,
   "metadata": {},
   "outputs": [],
   "source": []
  },
  {
   "cell_type": "code",
   "execution_count": null,
   "metadata": {},
   "outputs": [],
   "source": []
  },
  {
   "cell_type": "code",
   "execution_count": null,
   "metadata": {},
   "outputs": [],
   "source": []
  },
  {
   "cell_type": "code",
   "execution_count": null,
   "metadata": {},
   "outputs": [],
   "source": []
  }
 ],
 "metadata": {
  "kernelspec": {
   "display_name": "Python 3",
   "language": "python",
   "name": "python3"
  },
  "language_info": {
   "codemirror_mode": {
    "name": "ipython",
    "version": 3
   },
   "file_extension": ".py",
   "mimetype": "text/x-python",
   "name": "python",
   "nbconvert_exporter": "python",
   "pygments_lexer": "ipython3",
   "version": "3.7.6"
  }
 },
 "nbformat": 4,
 "nbformat_minor": 4
}

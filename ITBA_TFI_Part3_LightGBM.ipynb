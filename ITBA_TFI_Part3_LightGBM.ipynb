{
 "cells": [
  {
   "cell_type": "markdown",
   "metadata": {},
   "source": [
    "# TRABAJO FINAL INTEGRADOR\n",
    "\n",
    "### NOMBRE: GUIDO PETTINARI\n",
    "\n",
    "### TUTOR: VALERIA SOLIANI\n",
    "\n",
    "### UNIVERSIDAD: INSTITUTO TECNOLOGICO DE BUENOS AIRES (ITBA)\n",
    "\n",
    "**El Trabajo se dividirá en**:\n",
    "\n",
    "    1) Análisis Exploratorio Descriptivo\n",
    "    2) Feature Engineering o Preparación de Datos\n",
    "    3) Modelos Predictivos: Probaremos diferentes algoritmos predictivos"
   ]
  },
  {
   "cell_type": "markdown",
   "metadata": {},
   "source": [
    "### Import Libraries"
   ]
  },
  {
   "cell_type": "code",
   "execution_count": 1,
   "metadata": {},
   "outputs": [],
   "source": [
    "import pandas as pd\n",
    "from sklearn.model_selection import train_test_split\n",
    "from sklearn.model_selection import cross_val_score\n",
    "from sklearn.model_selection import RandomizedSearchCV, GridSearchCV\n",
    "from sklearn.ensemble import RandomForestClassifier\n",
    "from sklearn.metrics import accuracy_score,precision_score,recall_score,roc_auc_score,make_scorer,f1_score\n",
    "from sklearn.svm import SVC\n",
    "from sklearn.metrics import classification_report\n",
    "import lightgbm\n",
    "import seaborn as sns\n",
    "import numpy as np\n",
    "from mlxtend.evaluate import lift_score\n",
    "import csv\n",
    "from funpymodeling.exploratory import status"
   ]
  },
  {
   "cell_type": "markdown",
   "metadata": {},
   "source": [
    "### Load CSVs"
   ]
  },
  {
   "cell_type": "code",
   "execution_count": 2,
   "metadata": {},
   "outputs": [],
   "source": [
    "data_base = pd.read_csv('data_base.csv')\n",
    "data_ohe = pd.read_csv('data_ohe.csv')\n",
    "data_ohe_corr = pd.read_csv('data_ohe_corr.csv')\n",
    "data_ohe_out = pd.read_csv('data_ohe_out.csv')\n",
    "data_ohe_corr_out = pd.read_csv('data_ohe_out_corr.csv')\n",
    "data_out = pd.read_csv('data_out.csv')\n",
    "data_corr = pd.read_csv('data_corr.csv')\n",
    "data_out_corr = pd.read_csv('data_out_corr.csv')\n",
    "data_index = pd.read_csv('data_index.csv')\n"
   ]
  },
  {
   "cell_type": "code",
   "execution_count": null,
   "metadata": {},
   "outputs": [],
   "source": []
  },
  {
   "cell_type": "markdown",
   "metadata": {},
   "source": [
    "### Split All DF in Train and Test"
   ]
  },
  {
   "cell_type": "code",
   "execution_count": 3,
   "metadata": {},
   "outputs": [],
   "source": [
    "data_base_X = data_base.drop(['MonthlyIncome_cat_encode'],axis=1)\n",
    "data_base_y = data_base[['MonthlyIncome_cat_encode']]\n",
    "data_ohe_X = data_ohe.drop(['MonthlyIncome_cat_encode'],axis=1)\n",
    "data_ohe_y = data_ohe[['MonthlyIncome_cat_encode']]\n",
    "data_ohe_corr_X = data_ohe_corr.drop(['MonthlyIncome_cat_encode'],axis=1)\n",
    "data_ohe_corr_y = data_ohe_corr[['MonthlyIncome_cat_encode']]\n",
    "data_ohe_out_X = data_ohe_out.drop(['MonthlyIncome_cat_encode'],axis=1)\n",
    "data_ohe_out_y = data_ohe_out[['MonthlyIncome_cat_encode']]\n",
    "data_ohe_corr_out_X = data_ohe_corr_out.drop(['MonthlyIncome_cat_encode'],axis=1)\n",
    "data_ohe_corr_out_y = data_ohe_corr_out[['MonthlyIncome_cat_encode']]\n",
    "data_out_X = data_out.drop(['MonthlyIncome_cat_encode'],axis=1)\n",
    "data_out_y = data_out[['MonthlyIncome_cat_encode']]\n",
    "data_corr_X = data_corr.drop(['MonthlyIncome_cat_encode'],axis=1)\n",
    "data_corr_y = data_corr[['MonthlyIncome_cat_encode']]\n",
    "data_out_corr_X = data_out_corr.drop(['MonthlyIncome_cat_encode'],axis=1)\n",
    "data_out_corr_y = data_out_corr[['MonthlyIncome_cat_encode']]\n"
   ]
  },
  {
   "cell_type": "code",
   "execution_count": 4,
   "metadata": {},
   "outputs": [],
   "source": [
    "# data_base\n",
    "\n",
    "data_base_X_train, data_base_X_test, data_base_y_train, \\\n",
    "                                     data_base_y_test = train_test_split(data_base_X, data_base_y, test_size=0.3, random_state=42)\n",
    "\n",
    "#data_ohe\n",
    "data_ohe_X_train, data_ohe_X_test, data_ohe_y_train, \\\n",
    "                                   data_ohe_y_test = train_test_split(data_ohe_X, data_ohe_y, test_size=0.3, random_state=42)\n",
    "\n",
    "#data_ohe_corr\n",
    "data_ohe_corr_X_train, data_ohe_corr_X_test, data_ohe_corr_y_train, \\\n",
    "                       data_ohe_corr_y_test = train_test_split(data_ohe_corr_X, data_ohe_corr_y, test_size=0.3, random_state=42)\n",
    "\n",
    "# data_ohe_out\n",
    "data_ohe_out_X_train, data_ohe_out_X_test, data_ohe_out_y_train, \\\n",
    "                      data_ohe_out_y_test = train_test_split(data_ohe_out_X, data_ohe_out_y, test_size=0.3, random_state=42)\n",
    "\n",
    "# data_ohe_corr_out\n",
    "data_ohe_corr_out_X_train, data_ohe_corr_out_X_test, data_ohe_corr_out_y_train, \\\n",
    "                           data_ohe_corr_out_y_test = train_test_split(data_ohe_corr_out_X, data_ohe_corr_out_y, test_size=0.3, random_state=42)\n",
    "\n",
    "# data_out\n",
    "data_out_X_train, data_out_X_test, data_out_y_train, \\\n",
    "                           data_out_y_test = train_test_split(data_out_X, data_out_y, test_size=0.3, random_state=42)\n",
    "\n",
    "# data_corr\n",
    "data_corr_X_train, data_corr_X_test, data_corr_y_train, \\\n",
    "                           data_corr_y_test = train_test_split(data_corr_X, data_corr_y, test_size=0.3, random_state=42)\n",
    "\n",
    "# data_out_corr\n",
    "data_out_corr_X_train, data_out_corr_X_test, data_out_corr_y_train, \\\n",
    "                           data_out_corr_y_test = train_test_split(data_out_corr_X, data_out_corr_y, test_size=0.3, random_state=42)"
   ]
  },
  {
   "cell_type": "code",
   "execution_count": null,
   "metadata": {},
   "outputs": [],
   "source": [
    "data_ohe_X_train.describe()"
   ]
  },
  {
   "cell_type": "markdown",
   "metadata": {},
   "source": [
    "### Random Grid Search"
   ]
  },
  {
   "cell_type": "code",
   "execution_count": null,
   "metadata": {},
   "outputs": [],
   "source": [
    "num_leaves=[10, 20,40,60,100]\n",
    "max_depth=[5,10,20,30,40]\n",
    "learning_rate=[0.5]\n",
    "lambda_l1= [0, 1, 2,5,8]\n",
    "min_data_in_leaf=[4,8,12,20]\n",
    "n_estimators=[10,30,60,120]\n",
    "\n",
    "\n",
    "\n",
    "# Create the random grid\n",
    "random_grid = {'num_leaves': num_leaves,\n",
    "               'max_depth': max_depth,\n",
    "               'learning_rate': learning_rate,\n",
    "               'min_data_in_leaf': min_data_in_leaf,\n",
    "               'lambda_l1': lambda_l1,\n",
    "               'n_estimators': n_estimators}\n",
    "print(random_grid)\n"
   ]
  },
  {
   "cell_type": "code",
   "execution_count": null,
   "metadata": {},
   "outputs": [],
   "source": [
    "\n",
    "\n",
    "\n",
    "\n",
    "scoring = {'lift':make_scorer(lift_score),\n",
    "           'precision': make_scorer(precision_score, average = 'macro'),\n",
    "           'f1_score':make_scorer(f1_score, average='macro'),\n",
    "           'accuracy': make_scorer(accuracy_score),\n",
    "           'recall':make_scorer(recall_score,average='macro'),\n",
    "           'roc_auc_ovr':'roc_auc_ovr'}\n",
    "\n",
    "# Use the random grid to search for best hyperparameters\n",
    "# First create the base model to tune\n",
    "rf = lightgbm.LGBMClassifier()\n",
    "# Random search of parameters, using 3 fold cross validation, \n",
    "# search across 100 different combinations, and use all available cores\n",
    "rf_random = GridSearchCV(estimator = rf, \n",
    "                               param_grid = random_grid,\n",
    "                               scoring = scoring,\n",
    "                               refit='accuracy',\n",
    "                               cv = 5, \n",
    "                               verbose=1, \n",
    "                               n_jobs = -1)\n",
    "\n",
    "\n",
    "# list dataframes train that Random Forest accepts\n",
    "list_dataframes_train = [#[data_base_X_train, data_base_X_test],\n",
    "                         [data_ohe_X_train, data_ohe_y_train],\n",
    "                         [data_ohe_corr_X_train, data_ohe_corr_y_train],\n",
    "                         [data_ohe_out_X_train, data_ohe_out_y_train],\n",
    "                         [data_ohe_corr_out_X_train, data_ohe_corr_out_y_train]\n",
    "                         #[data_out_X, data_out_y],\n",
    "                         #[data_corr_X, data_corr_y],\n",
    "                         #[data_out_corr_X, data_out_corr_y]\n",
    "                         ]\n",
    "\n",
    "# list dataframes train that Random Forest accepts\n",
    "list_dataframes_test = [#[data_base_X_train, data_base_X_test],\n",
    "                         [data_ohe_X_test, data_ohe_y_test],\n",
    "                         [data_ohe_corr_X_test, data_ohe_corr_y_test],\n",
    "                         [data_ohe_out_X_test, data_ohe_out_y_test],\n",
    "                         [data_ohe_corr_out_X_test, data_ohe_corr_out_y_test]\n",
    "                         #[data_out_X, data_out_y],\n",
    "                         #[data_corr_X, data_corr_y],\n",
    "                         #[data_out_corr_X, data_out_corr_y]\n",
    "                         ]\n",
    "\n",
    "\n",
    "list_dataframes_names = ['data_ohe','data_ohe_corr','data_ohe_out','data_ohe_corr_out']"
   ]
  },
  {
   "cell_type": "code",
   "execution_count": null,
   "metadata": {
    "scrolled": false
   },
   "outputs": [],
   "source": [
    "# Fit the random search model\n",
    "df = pd.DataFrame()\n",
    "for i in range(0,len(list_dataframes_train)):\n",
    "    #Entreno sobre mis dataframes train  \n",
    "    rf_random.fit(list_dataframes_train[i][0], list_dataframes_train[i][1].values.ravel())\n",
    "    len_name = len(rf_random.cv_results_['mean_test_accuracy'])\n",
    "    name = [list_dataframes_names[i]]*len_name\n",
    "\n",
    "    train_results = pd.concat([\n",
    "                     pd.DataFrame(name,columns=['dataframe']),\n",
    "                     pd.DataFrame(rf_random.cv_results_['params']),\n",
    "                     pd.DataFrame(rf_random.cv_results_['mean_test_lift'],columns=['lift']),          \n",
    "                     pd.DataFrame(rf_random.cv_results_['mean_test_accuracy'],columns=['accuracy']),\n",
    "                     pd.DataFrame(rf_random.cv_results_['mean_test_precision'],columns=['precision_score']),\n",
    "                     pd.DataFrame(rf_random.cv_results_['mean_test_recall'],columns=['recall']),\n",
    "                     pd.DataFrame(rf_random.cv_results_['mean_test_f1_score'],columns=['f1_score']),\n",
    "                     pd.DataFrame(rf_random.cv_results_['mean_test_roc_auc_ovr'],columns=['roc_auc_ovr'])],axis=1).sort_values('lift',ascending=False)\n",
    "    df = df.append(train_results) \n",
    "df.to_csv('train_lightgbm_results_v3.csv',index=False)"
   ]
  },
  {
   "cell_type": "code",
   "execution_count": 5,
   "metadata": {},
   "outputs": [
    {
     "name": "stdout",
     "output_type": "stream",
     "text": [
      "[LightGBM] [Warning] min_data_in_leaf is set=12, min_child_samples=20 will be ignored. Current value: min_data_in_leaf=12\n",
      "[LightGBM] [Warning] lambda_l1 is set=8, reg_alpha=0.0 will be ignored. Current value: lambda_l1=8\n"
     ]
    },
    {
     "name": "stderr",
     "output_type": "stream",
     "text": [
      "C:\\Users\\guido\\anaconda3\\lib\\site-packages\\sklearn\\preprocessing\\_label.py:235: DataConversionWarning: A column-vector y was passed when a 1d array was expected. Please change the shape of y to (n_samples, ), for example using ravel().\n",
      "  y = column_or_1d(y, warn=True)\n",
      "C:\\Users\\guido\\anaconda3\\lib\\site-packages\\sklearn\\preprocessing\\_label.py:268: DataConversionWarning: A column-vector y was passed when a 1d array was expected. Please change the shape of y to (n_samples, ), for example using ravel().\n",
      "  y = column_or_1d(y, warn=True)\n"
     ]
    },
    {
     "data": {
      "text/plain": [
       "LGBMClassifier(boosting_type='gbdt', class_weight=None, colsample_bytree=1.0,\n",
       "               importance_type='split', lambda_l1=8, learning_rate=[0.5],\n",
       "               max_depth=5, min_child_samples=20, min_child_weight=0.001,\n",
       "               min_data_in_leaf=12, min_split_gain=0.0, n_estimators=60,\n",
       "               n_jobs=-1, num_leaves=100, objective=None, random_state=None,\n",
       "               reg_alpha=0.0, reg_lambda=0.0, silent=True, subsample=1.0,\n",
       "               subsample_for_bin=200000, subsample_freq=0)"
      ]
     },
     "execution_count": 5,
     "metadata": {},
     "output_type": "execute_result"
    }
   ],
   "source": [
    "# A continuación correremos con los parametros que nos dió mejor resultado tanto el training como el testing y los graficaremos \n",
    "# con una curva de ROC\n",
    "\n",
    "# Use the random grid to search for best hyperparameters\n",
    "# First create the base model to tune\n",
    "\n",
    "\n",
    "rf = lightgbm.LGBMClassifier(num_leaves=100,\n",
    "                             max_depth=5,\n",
    "                             learning_rate=[0.5],\n",
    "                             lambda_l1= 8,\n",
    "                             min_data_in_leaf=12,\n",
    "                             n_estimators=60)\n",
    "\n",
    "\n",
    "rf.fit(data_ohe_X_train, data_ohe_y_train)\n"
   ]
  },
  {
   "cell_type": "markdown",
   "metadata": {},
   "source": [
    "### Classification report"
   ]
  },
  {
   "cell_type": "code",
   "execution_count": 6,
   "metadata": {
    "scrolled": true
   },
   "outputs": [
    {
     "name": "stdout",
     "output_type": "stream",
     "text": [
      "              precision    recall  f1-score   support\n",
      "\n",
      "           0       0.75      0.95      0.84       279\n",
      "           1       0.87      0.42      0.57       262\n",
      "           2       0.68      0.82      0.74       226\n",
      "           3       0.89      0.94      0.91       262\n",
      "\n",
      "    accuracy                           0.79      1029\n",
      "   macro avg       0.80      0.78      0.77      1029\n",
      "weighted avg       0.80      0.79      0.77      1029\n",
      "\n",
      "              precision    recall  f1-score   support\n",
      "\n",
      "           0       0.64      0.84      0.73        90\n",
      "           1       0.56      0.27      0.36       104\n",
      "           2       0.68      0.75      0.71       141\n",
      "           3       0.79      0.88      0.83       106\n",
      "\n",
      "    accuracy                           0.69       441\n",
      "   macro avg       0.67      0.69      0.66       441\n",
      "weighted avg       0.67      0.69      0.66       441\n",
      "\n"
     ]
    }
   ],
   "source": [
    "y_pred_tr = rf.predict(data_ohe_X_train)\n",
    "y_pred_ts = rf.predict(data_ohe_X_test)\n",
    "\n",
    "\n",
    "print(classification_report(data_ohe_y_train,y_pred_tr))\n",
    "print(classification_report(data_ohe_y_test,y_pred_ts))"
   ]
  },
  {
   "cell_type": "code",
   "execution_count": 7,
   "metadata": {},
   "outputs": [
    {
     "data": {
      "text/plain": [
       "array([3, 2, 0, 1], dtype=int64)"
      ]
     },
     "execution_count": 7,
     "metadata": {},
     "output_type": "execute_result"
    }
   ],
   "source": [
    "# Con el mejor parametro del grid search paso a predecir\n",
    "#y_pred_tr = rf_random.predict(X_train)\n",
    "#accuracy_score = accuracy_score(y_train, y_pred_tr)\n",
    "#precision_score = precision_score(y_train, y_pred_tr)\n",
    "#recall_score = recall_score(y_train, y_pred_tr)\n",
    "#roc_auc_score = roc_auc_score(y_train, y_pred_tr)\n",
    "#lift_score = lift_score(y_train, y_pred_tr)\n",
    "\n",
    "pd.unique(data_ohe_y_train['MonthlyIncome_cat_encode'])\n"
   ]
  },
  {
   "cell_type": "code",
   "execution_count": 8,
   "metadata": {},
   "outputs": [
    {
     "name": "stderr",
     "output_type": "stream",
     "text": [
      "C:\\Users\\guido\\anaconda3\\lib\\site-packages\\sklearn\\utils\\deprecation.py:144: FutureWarning: The sklearn.metrics.classification module is  deprecated in version 0.22 and will be removed in version 0.24. The corresponding classes / functions should instead be imported from sklearn.metrics. Anything that cannot be imported from sklearn.metrics is now part of the private API.\n",
      "  warnings.warn(message, FutureWarning)\n",
      "C:\\Users\\guido\\anaconda3\\lib\\site-packages\\sklearn\\base.py:197: FutureWarning: From version 0.24, get_params will raise an AttributeError if a parameter cannot be retrieved as an instance attribute. Previously it would return None.\n",
      "  FutureWarning)\n"
     ]
    },
    {
     "data": {
      "image/png": "[encoded data removed]",
      "text/plain": [
       "<Figure size 576x396 with 1 Axes>"
      ]
     },
     "metadata": {},
     "output_type": "display_data"
    },
    {
     "data": {
      "text/plain": [
       "<AxesSubplot:title={'center':'ROC Curves for LGBMClassifier'}, xlabel='False Positive Rate', ylabel='True Postive Rate'>"
      ]
     },
     "execution_count": 8,
     "metadata": {},
     "output_type": "execute_result"
    }
   ],
   "source": [
    "from yellowbrick.classifier import ROCAUC,PrecisionRecallCurve,ClassBalance\n",
    "from yellowbrick.target import FeatureCorrelation\n",
    "\n",
    "visualizer = ROCAUC(rf, classes=[\"0\",\"1\",\"2\",\"3\"])\n",
    "\n",
    "visualizer.fit(data_ohe_X_train,data_ohe_y_train)\n",
    "visualizer.score(data_ohe_X_test,data_ohe_y_test)\n",
    "visualizer.show()"
   ]
  }
 ],
 "metadata": {
  "kernelspec": {
   "display_name": "Python 3",
   "language": "python",
   "name": "python3"
  },
  "language_info": {
   "codemirror_mode": {
    "name": "ipython",
    "version": 3
   },
   "file_extension": ".py",
   "mimetype": "text/x-python",
   "name": "python",
   "nbconvert_exporter": "python",
   "pygments_lexer": "ipython3",
   "version": "3.7.6"
  }
 },
 "nbformat": 4,
 "nbformat_minor": 4
}
